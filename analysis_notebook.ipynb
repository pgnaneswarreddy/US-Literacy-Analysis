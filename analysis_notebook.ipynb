# US Literacy & Library Engagement Analysis
import pandas as pd
import numpy as np
import matplotlib.pyplot as plt
import statsmodels.api as sm
from sklearn.model_selection import train_test_split
from sklearn.linear_model import LinearRegression
from sklearn.metrics import r2_score, mean_squared_error

# Load simulated data
df = pd.read_csv('literacy_data.csv')

# Quick EDA
print(df.head())
print('\nSummary statistics:')
print(df.describe())

# Visualize library visits over time for each state
for state in df['state'].unique():
    sub = df[df['state']==state]
    plt.plot(sub['year'], sub['library_visits_per_capita'], marker='o', label=state)
plt.xlabel('Year')
plt.ylabel('Library visits per capita')
plt.title('Library visits per capita by state (simulated)')
plt.legend()
plt.show()

# Prepare features and target
X = df[['internet_access_pct','education_index','reading_hours_per_week','population_millions']]
y = df['library_visits_per_capita']

# Add constant for statsmodels
X_sm = sm.add_constant(X)
model = sm.OLS(y, X_sm).fit()
print('\nOLS Regression Results (statsmodels):')
print(model.summary())

# Train-test split and sklearn regression
X_train, X_test, y_train, y_test = train_test_split(X, y, test_size=0.2, random_state=42)
lr = LinearRegression()
lr.fit(X_train, y_train)
y_pred = lr.predict(X_test)
print('\nSklearn Linear Regression R2:', r2_score(y_test, y_pred))
print('RMSE:', np.sqrt(mean_squared_error(y_test, y_pred)))

# Save a simple results text file
with open('model_results.txt','w') as f:
    f.write('Sklearn R2: {:.3f}\nRMSE: {:.3f}\n'.format(r2_score(y_test, y_pred), np.sqrt(mean_squared_error(y_test, y_pred))))
